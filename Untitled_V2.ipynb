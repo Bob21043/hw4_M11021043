{
 "cells": [
  {
   "cell_type": "code",
   "execution_count": 5,
   "id": "66ed498b",
   "metadata": {},
   "outputs": [],
   "source": [
    "import cv2\n",
    "import sys\n",
    "from PIL import Image\n",
    "import numpy as np\n",
    "import pytesseract"
   ]
  },
  {
   "cell_type": "code",
   "execution_count": 6,
   "id": "01e48a14",
   "metadata": {},
   "outputs": [],
   "source": [
    "def extract_text_from_cells(image_path):\n",
    "    # 读取图像\n",
    "    image = cv2.imread(image_path)\n",
    "    if image is None:\n",
    "        print(\"无法读取图像:\", image_path)\n",
    "        return\n",
    "\n",
    "    # 将图像转换为灰度\n",
    "    gray = cv2.cvtColor(image, cv2.COLOR_BGR2GRAY)\n",
    "\n",
    "    # 使用Canny边缘检测\n",
    "    edges = cv2.Canny(gray, 100, 200)\n",
    "\n",
    "    # 提取边缘線段\n",
    "    minLineLength = 10000\n",
    "    maxLineGap = 100\n",
    "    lines = cv2.HoughLinesP(edges, 1, np.pi/180, 350, minLineLength, maxLineGap)\n",
    "\n",
    "    # 初始化垂直線和水平線的列表\n",
    "    verti_lst = []\n",
    "    horiz_lst = []\n",
    "\n",
    "    # 檢查是否找到了線段\n",
    "    if lines is not None:\n",
    "        # 遍歷每條線段\n",
    "        for line in lines:\n",
    "            x1, y1, x2, y2 = line[0]\n",
    "            # 計算斜率\n",
    "            slope = (y2 - y1) / (x2 - x1)\n",
    "\n",
    "            # 判斷斜率篩選出垂直線與水平線\n",
    "            if slope == -1 * np.inf:\n",
    "                cv2.line(image, (x1, y1), (x2, y2), (0, 255, 0), 1)\n",
    "                # 將垂直線的 x1 座標紀錄在 verti_lst 裡\n",
    "                verti_lst.append(x1)\n",
    "\n",
    "            if slope == 0:\n",
    "                cv2.line(image, (x1, y1), (x2, y2), (0, 255, 0), 1)\n",
    "                # 將水平線的 y1 座標紀錄在 horiz_lst 裡\n",
    "                horiz_lst.append(y1)\n",
    "\n",
    "    # 查找边缘轮廓\n",
    "    contours, _ = cv2.findContours(edges, cv2.RETR_EXTERNAL, cv2.CHAIN_APPROX_SIMPLE)\n",
    "\n",
    "    # 绘制边缘轮廓\n",
    "    result = image.copy()\n",
    "    cv2.drawContours(result, contours, -1, (0, 255, 0), 2)\n",
    "\n",
    "    # 显示结果\n",
    "    cv2.imshow(\"Contours and Lines\", result)\n",
    "    cv2.waitKey(0)\n",
    "    cv2.destroyAllWindows()\n",
    "    \n",
    "    \n",
    "# 调用函数\n",
    "image_path = r'C:\\Users\\Bob\\Unsupervised-Object-Anomaly-Detection-using-Convolutional-Autoencoder-master\\T02 LC shift detect\\LC shift_test2.png'\n",
    "extract_text_from_cells(image_path)"
   ]
  },
  {
   "cell_type": "code",
   "execution_count": null,
   "id": "d38afb40",
   "metadata": {},
   "outputs": [],
   "source": []
  }
 ],
 "metadata": {
  "kernelspec": {
   "display_name": "Python 3 (ipykernel)",
   "language": "python",
   "name": "python3"
  },
  "language_info": {
   "codemirror_mode": {
    "name": "ipython",
    "version": 3
   },
   "file_extension": ".py",
   "mimetype": "text/x-python",
   "name": "python",
   "nbconvert_exporter": "python",
   "pygments_lexer": "ipython3",
   "version": "3.9.12"
  }
 },
 "nbformat": 4,
 "nbformat_minor": 5
}
