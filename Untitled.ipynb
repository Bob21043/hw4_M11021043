{
 "cells": [
  {
   "cell_type": "code",
   "execution_count": 1,
   "id": "03624d52",
   "metadata": {},
   "outputs": [],
   "source": [
    "import cv2\n",
    "import sys\n",
    "from PIL import Image\n",
    "import numpy as np\n",
    "import pytesseract"
   ]
  },
  {
   "cell_type": "code",
   "execution_count": 2,
   "id": "23ab960a",
   "metadata": {},
   "outputs": [
    {
     "name": "stdout",
     "output_type": "stream",
     "text": [
      "单元格文本: \n",
      "单元格文本: =\n",
      "\n",
      "单元格文本: \n",
      "单元格文本: \n",
      "单元格文本: \n",
      "单元格文本: \n",
      "单元格文本: \n",
      "单元格文本: \n",
      "单元格文本: \n",
      "单元格文本: —!)\n",
      "\n"
     ]
    }
   ],
   "source": [
    "import cv2\n",
    "import pytesseract\n",
    "\n",
    "def extract_text_from_cells(image_path):\n",
    "    # 读取图像\n",
    "    img = cv2.imread(image_path)\n",
    "    gray = cv2.cvtColor(img, cv2.COLOR_BGR2GRAY)\n",
    "    \n",
    "    # 使用高斯模糊\n",
    "    img_blur = cv2.GaussianBlur(gray, (19, 19), 0)\n",
    "    \n",
    "    # 使用Canny边缘检测\n",
    "    edges = cv2.Canny(img_blur, 100, 200)\n",
    "    \n",
    "    # 查找图像中的轮廓\n",
    "    contours, _ = cv2.findContours(edges, cv2.RETR_EXTERNAL, cv2.CHAIN_APPROX_SIMPLE)\n",
    "    contours = sorted(contours, key=cv2.contourArea, reverse=True)[:10]\n",
    "    \n",
    "    # 对每个边缘轮廓进行处理\n",
    "    for idx, contour in enumerate(contours):\n",
    "        # 获取边界框坐标\n",
    "        x, y, w, h = cv2.boundingRect(contour)\n",
    "        # 提取单元格图像\n",
    "        cell_image = gray[y:y+h, x:x+w]\n",
    "        \n",
    "        # 显示单元格图像\n",
    "        cv2.imshow(f\"Cell {idx}\", cell_image)\n",
    "        cv2.waitKey(0)\n",
    "        cv2.destroyAllWindows()\n",
    "        \n",
    "        # 使用Tesseract OCR识别文本\n",
    "        text = pytesseract.image_to_string(cell_image)\n",
    "        # 打印识别的文本\n",
    "        print(\"单元格文本:\", text)\n",
    "    \n",
    "\n",
    "# 调用函数\n",
    "image_path = r'C:\\Users\\Bob\\Unsupervised-Object-Anomaly-Detection-using-Convolutional-Autoencoder-master\\T02 LC shift detect\\LC shift.png'\n",
    "extract_text_from_cells(image_path)"
   ]
  },
  {
   "cell_type": "code",
   "execution_count": null,
   "id": "446a74d6",
   "metadata": {},
   "outputs": [],
   "source": []
  }
 ],
 "metadata": {
  "kernelspec": {
   "display_name": "Python 3 (ipykernel)",
   "language": "python",
   "name": "python3"
  },
  "language_info": {
   "codemirror_mode": {
    "name": "ipython",
    "version": 3
   },
   "file_extension": ".py",
   "mimetype": "text/x-python",
   "name": "python",
   "nbconvert_exporter": "python",
   "pygments_lexer": "ipython3",
   "version": "3.9.12"
  }
 },
 "nbformat": 4,
 "nbformat_minor": 5
}
