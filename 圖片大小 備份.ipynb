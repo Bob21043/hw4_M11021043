{
 "cells": [
  {
   "cell_type": "code",
   "execution_count": 4,
   "id": "dc893edd",
   "metadata": {},
   "outputs": [],
   "source": [
    "import cv2\n",
    "import sys\n",
    "from PIL import Image\n",
    "import numpy as np\n",
    "import pytesseract\n",
    "import os"
   ]
  },
  {
   "cell_type": "code",
   "execution_count": 5,
   "id": "ae7db77f",
   "metadata": {},
   "outputs": [
    {
     "name": "stdout",
     "output_type": "stream",
     "text": [
      "Total area of contours: 1981.0\n"
     ]
    }
   ],
   "source": [
    "def calculate_contour_area(image_path):\n",
    "    # 讀取圖像\n",
    "    image = cv2.imread(image_path)\n",
    "    \n",
    "    # 將圖像轉換為灰度\n",
    "    gray = cv2.cvtColor(image, cv2.COLOR_BGR2GRAY)\n",
    "\n",
    "    # 使用Canny邊緣檢測\n",
    "    edges = cv2.Canny(gray, 100, 200)\n",
    "\n",
    "    # 查找輪廓\n",
    "    contours, _ = cv2.findContours(edges, cv2.RETR_EXTERNAL, cv2.CHAIN_APPROX_SIMPLE)\n",
    "\n",
    "    # 計算總面積\n",
    "    total_area = sum(cv2.contourArea(contour) for contour in contours)\n",
    "    \n",
    "    return total_area\n",
    "\n",
    "# 調用函數並輸出結果\n",
    "image_path = r'C:\\Users\\Bob\\Unsupervised-Object-Anomaly-Detection-using-Convolutional-Autoencoder-master\\T02 LC shift detect\\Test111.png'  # 替換成您的圖片路徑\n",
    "total_area = calculate_contour_area(image_path)\n",
    "print(\"Total area of contours:\", total_area)"
   ]
  },
  {
   "cell_type": "code",
   "execution_count": null,
   "id": "aa54a9c9",
   "metadata": {},
   "outputs": [],
   "source": []
  }
 ],
 "metadata": {
  "kernelspec": {
   "display_name": "Python 3 (ipykernel)",
   "language": "python",
   "name": "python3"
  },
  "language_info": {
   "codemirror_mode": {
    "name": "ipython",
    "version": 3
   },
   "file_extension": ".py",
   "mimetype": "text/x-python",
   "name": "python",
   "nbconvert_exporter": "python",
   "pygments_lexer": "ipython3",
   "version": "3.9.12"
  }
 },
 "nbformat": 4,
 "nbformat_minor": 5
}
