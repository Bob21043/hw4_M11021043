{
 "cells": [
  {
   "cell_type": "code",
   "execution_count": 4,
   "id": "66ed498b",
   "metadata": {},
   "outputs": [],
   "source": [
    "import cv2\n",
    "import sys\n",
    "from PIL import Image\n",
    "import numpy as np\n",
    "import pytesseract\n",
    "import os"
   ]
  },
  {
   "cell_type": "code",
   "execution_count": 5,
   "id": "01e48a14",
   "metadata": {},
   "outputs": [
    {
     "name": "stdout",
     "output_type": "stream",
     "text": [
      "单元格文本: \n",
      "单元格文本: \n",
      "单元格文本: \n",
      "单元格文本: \n",
      "单元格文本: \n",
      "单元格文本: -2.31\n",
      "\n",
      "单元格文本: \n",
      "单元格文本: \n",
      "单元格文本: \n",
      "单元格文本: \n",
      "单元格文本: \n",
      "单元格文本: \n",
      "单元格文本: \n",
      "单元格文本: \n",
      "单元格文本: \n",
      "单元格文本: \n",
      "单元格文本: \n",
      "单元格文本: -11.57\n",
      "\n",
      "单元格文本: \n",
      "单元格文本: \n",
      "单元格文本: \n",
      "单元格文本: \n",
      "单元格文本: 1.30\n",
      "\n",
      "单元格文本: \n",
      "单元格文本: \n",
      "单元格文本: \n",
      "单元格文本: \n",
      "单元格文本: \n",
      "单元格文本: \n",
      "单元格文本: \n",
      "单元格文本: \n",
      "单元格文本: -0.01048\n",
      "\n",
      "单元格文本: \n",
      "单元格文本: \n",
      "单元格文本: \n",
      "单元格文本: \n",
      "单元格文本: 7.39\n",
      "\n",
      "单元格文本: \n",
      "单元格文本: \n",
      "单元格文本: \n",
      "单元格文本: —)\n",
      "\n",
      "单元格文本: \n",
      "单元格文本: -2.09\n",
      "\n",
      "单元格文本: \n",
      "单元格文本: \n"
     ]
    }
   ],
   "source": [
    "def extract_text_from_cells(image_path):\n",
    "    # 读取图像\n",
    "    image = cv2.imread(image_path)\n",
    "    if image is None:\n",
    "        print(\"无法读取图像:\", image_path)\n",
    "        return\n",
    "\n",
    "    # 将图像转换为灰度\n",
    "    gray = cv2.cvtColor(image, cv2.COLOR_BGR2GRAY)\n",
    "\n",
    "    # 使用Canny边缘检测\n",
    "    edges = cv2.Canny(gray, 100, 200)\n",
    "\n",
    "    # 查找边缘轮廓\n",
    "    contours, _ = cv2.findContours(edges, cv2.RETR_EXTERNAL, cv2.CHAIN_APPROX_SIMPLE)\n",
    "\n",
    "    # 对每个边缘轮廓进行处理\n",
    "    for contour in contours:\n",
    "        # 获取边界框坐标\n",
    "        x, y, w, h = cv2.boundingRect(contour)\n",
    "        # 提取单元格图像\n",
    "        cell_image = gray[y:y+h, x:x+w]\n",
    "        # 使用Tesseract OCR识别文本\n",
    "        text = pytesseract.image_to_string(cell_image)\n",
    "        # 打印识别的文本\n",
    "        print(\"单元格文本:\", text)\n",
    "\n",
    "# 调用函数\n",
    "directory = r'C:\\Users\\Bob\\Unsupervised-Object-Anomaly-Detection-using-Convolutional-Autoencoder-master\\T02 LC shift detect\\TEST'\n",
    "for filename in os.listdir(directory):\n",
    "    if filename.endswith(\".png\"):\n",
    "        image_path = os.path.join(directory, filename)\n",
    "        extract_text_from_cells(image_path)"
   ]
  },
  {
   "cell_type": "code",
   "execution_count": null,
   "id": "d38afb40",
   "metadata": {},
   "outputs": [],
   "source": []
  }
 ],
 "metadata": {
  "kernelspec": {
   "display_name": "Python 3 (ipykernel)",
   "language": "python",
   "name": "python3"
  },
  "language_info": {
   "codemirror_mode": {
    "name": "ipython",
    "version": 3
   },
   "file_extension": ".py",
   "mimetype": "text/x-python",
   "name": "python",
   "nbconvert_exporter": "python",
   "pygments_lexer": "ipython3",
   "version": "3.9.12"
  }
 },
 "nbformat": 4,
 "nbformat_minor": 5
}
